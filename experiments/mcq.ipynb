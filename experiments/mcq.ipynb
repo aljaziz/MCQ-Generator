{
 "cells": [
  {
   "cell_type": "code",
   "execution_count": 1,
   "metadata": {},
   "outputs": [],
   "source": [
    "import os\n",
    "import json\n",
    "import pandas as pd\n",
    "import traceback"
   ]
  },
  {
   "cell_type": "code",
   "execution_count": 2,
   "metadata": {},
   "outputs": [],
   "source": [
    "from langchain.chat_models import ChatOpenAI"
   ]
  },
  {
   "cell_type": "code",
   "execution_count": 3,
   "metadata": {},
   "outputs": [
    {
     "data": {
      "text/plain": [
       "True"
      ]
     },
     "execution_count": 3,
     "metadata": {},
     "output_type": "execute_result"
    }
   ],
   "source": [
    "from dotenv import load_dotenv\n",
    "load_dotenv()"
   ]
  },
  {
   "cell_type": "code",
   "execution_count": 4,
   "metadata": {},
   "outputs": [],
   "source": [
    "KEY=os.getenv(\"OPENAI_API_KEY\")"
   ]
  },
  {
   "cell_type": "code",
   "execution_count": 5,
   "metadata": {},
   "outputs": [
    {
     "name": "stderr",
     "output_type": "stream",
     "text": [
      "e:\\Turja\\LLM's\\MCQ-Generator\\mcq\\lib\\site-packages\\langchain_core\\_api\\deprecation.py:117: LangChainDeprecationWarning: The class `langchain_community.chat_models.openai.ChatOpenAI` was deprecated in langchain-community 0.0.10 and will be removed in 0.2.0. An updated version of the class exists in the langchain-openai package and should be used instead. To use it run `pip install -U langchain-openai` and import as `from langchain_openai import ChatOpenAI`.\n",
      "  warn_deprecated(\n"
     ]
    }
   ],
   "source": [
    "llm=ChatOpenAI(openai_api_key=KEY,model_name=\"gpt-3.5-turbo\", temperature=0.5)"
   ]
  },
  {
   "cell_type": "code",
   "execution_count": 7,
   "metadata": {},
   "outputs": [],
   "source": [
    "from langchain.llms import OpenAI\n",
    "from langchain.prompts import PromptTemplate\n",
    "from langchain.chains import LLMChain\n",
    "from langchain.chains import SequentialChain\n",
    "from langchain.callbacks import get_openai_callback\n",
    "import PyPDF2"
   ]
  },
  {
   "cell_type": "code",
   "execution_count": 8,
   "metadata": {},
   "outputs": [],
   "source": [
    "RESPONSE_JSON = {\n",
    "    \"1\": {\n",
    "        \"mcq\": \"multiple choice question\",\n",
    "        \"options\": {\n",
    "            \"a\": \"choice here\",\n",
    "            \"b\": \"choice here\",\n",
    "            \"c\": \"choice here\",\n",
    "            \"d\": \"choice here\",\n",
    "        },\n",
    "        \"correct\": \"correct answer\",\n",
    "    },\n",
    "    \"2\": {\n",
    "        \"mcq\": \"multiple choice question\",\n",
    "        \"options\": {\n",
    "            \"a\": \"choice here\",\n",
    "            \"b\": \"choice here\",\n",
    "            \"c\": \"choice here\",\n",
    "            \"d\": \"choice here\",\n",
    "        },\n",
    "        \"correct\": \"correct answer\",\n",
    "    },\n",
    "    \"3\": {\n",
    "        \"mcq\": \"multiple choice question\",\n",
    "        \"options\": {\n",
    "            \"a\": \"choice here\",\n",
    "            \"b\": \"choice here\",\n",
    "            \"c\": \"choice here\",\n",
    "            \"d\": \"choice here\",\n",
    "        },\n",
    "        \"correct\": \"correct answer\",\n",
    "    },\n",
    "}"
   ]
  },
  {
   "cell_type": "code",
   "execution_count": 9,
   "metadata": {},
   "outputs": [],
   "source": [
    "TEMPLATE=\"\"\"\n",
    "Text:{text}\n",
    "You are an expert MCQ maker. Given the above text, it is your job to \\\n",
    "create a quiz  of {number} multiple choice questions for {subject} students in {tone} tone. \n",
    "Make sure the questions are not repeated and check all the questions to be conforming the text as well.\n",
    "Make sure to format your response like  RESPONSE_JSON below  and use it as a guide. \\\n",
    "Ensure to make {number} MCQs\n",
    "### RESPONSE_JSON\n",
    "{response_json}\n",
    "\n",
    "\"\"\""
   ]
  },
  {
   "cell_type": "code",
   "execution_count": 10,
   "metadata": {},
   "outputs": [],
   "source": [
    "quiz_generation_prompt = PromptTemplate(\n",
    "    input_variables=[\"text\", \"number\", \"subject\", \"tone\", \"response_json\"],\n",
    "    template=TEMPLATE\n",
    "    )"
   ]
  },
  {
   "cell_type": "code",
   "execution_count": 11,
   "metadata": {},
   "outputs": [],
   "source": [
    "quiz_chain=LLMChain(llm=llm, prompt=quiz_generation_prompt, output_key=\"quiz\", verbose=True)"
   ]
  },
  {
   "cell_type": "code",
   "execution_count": 12,
   "metadata": {},
   "outputs": [],
   "source": [
    "TEMPLATE2=\"\"\"\n",
    "You are an expert english grammarian and writer. Given a Multiple Choice Quiz for {subject} students.\\\n",
    "You need to evaluate the complexity of the question and give a complete analysis of the quiz. Only use at max 50 words for complexity analysis. \n",
    "if the quiz is not at per with the cognitive and analytical abilities of the students,\\\n",
    "update the quiz questions which needs to be changed and change the tone such that it perfectly fits the student abilities\n",
    "Quiz_MCQs:\n",
    "{quiz}\n",
    "\n",
    "Check from an expert English Writer of the above quiz:\n",
    "\"\"\"\n"
   ]
  },
  {
   "cell_type": "code",
   "execution_count": 13,
   "metadata": {},
   "outputs": [],
   "source": [
    "quiz_evaluation_prompt=PromptTemplate(input_variables=[\"subject\", \"quiz\"], template=TEMPLATE)"
   ]
  },
  {
   "cell_type": "code",
   "execution_count": 14,
   "metadata": {},
   "outputs": [],
   "source": [
    "review_chain=LLMChain(llm=llm, prompt=quiz_evaluation_prompt, output_key=\"review\", verbose=True)"
   ]
  },
  {
   "cell_type": "code",
   "execution_count": 15,
   "metadata": {},
   "outputs": [],
   "source": [
    "generate_evaluate_chain = SequentialChain(\n",
    "    chains=[quiz_chain, review_chain],\n",
    "    input_variables=[\"text\", \"number\", \"subject\", \"tone\", \"response_json\"],\n",
    "    output_variables=[\"quiz\", \"review\"],\n",
    "    verbose=True,\n",
    ")"
   ]
  },
  {
   "cell_type": "code",
   "execution_count": 16,
   "metadata": {},
   "outputs": [
    {
     "data": {
      "text/plain": [
       "\"E:\\\\Turja\\\\LLM's\\\\MCQ-Generator\\\\data.txt\""
      ]
     },
     "execution_count": 16,
     "metadata": {},
     "output_type": "execute_result"
    }
   ],
   "source": [
    "data = r\"E:\\Turja\\LLM's\\MCQ-Generator\\data.txt\"\n",
    "data"
   ]
  },
  {
   "cell_type": "code",
   "execution_count": 17,
   "metadata": {},
   "outputs": [],
   "source": [
    "with open(data, 'r') as file:\n",
    "    TEXT = file.read()"
   ]
  },
  {
   "cell_type": "code",
   "execution_count": 18,
   "metadata": {},
   "outputs": [
    {
     "name": "stdout",
     "output_type": "stream",
     "text": [
      "Biology is the scientific study of life.[1][2][3] It is a natural science with a broad scope but has several unifying\n",
      "themes that tie it together as a single, coherent field.[1][2][3] For instance, all organisms are made up of cells that \n",
      "process hereditary information encoded in genes, which can be transmitted to future generations. Another major theme is \n",
      "evolution, which explains the unity and diversity of life.[1][2][3] Energy processing is also important to life as it \n",
      "allows organisms to move, grow, and reproduce.[1][2][3] Finally, all organisms are able to regulate their own internal \n",
      "environments.[1][2][3][4][5] Biologists are able to study life at multiple levels of organization,[1] from the molecular \n",
      "biology of a cell to the anatomy and physiology of plants and animals, and evolution of populations.[1][6] Hence, there \n",
      "are multiple subdisciplines within biology, each defined by the nature of their research questions and the tools that \n",
      "they use.[7][8][9] Like other scientists, biologists use the scientific method to make observations, pose questions, \n",
      "generate hypotheses, perform experiments, and form conclusions about the world around them.[1] Life on Earth, which \n",
      "emerged more than 3.7 billion years ago,[10] is immensely diverse. Biologists have sought to study and classify the \n",
      "various forms of life, from prokaryotic organisms such as archaea and bacteria to eukaryotic organisms such as protists, \n",
      "fungi, plants, and animals. These various organisms contribute to the biodiversity of an ecosystem, where they play \n",
      "specialized roles in the cycling of nutrients and energy through their biophysical environment.\n"
     ]
    }
   ],
   "source": [
    "print(TEXT)"
   ]
  },
  {
   "cell_type": "code",
   "execution_count": 19,
   "metadata": {},
   "outputs": [
    {
     "data": {
      "text/plain": [
       "'{\"1\": {\"mcq\": \"multiple choice question\", \"options\": {\"a\": \"choice here\", \"b\": \"choice here\", \"c\": \"choice here\", \"d\": \"choice here\"}, \"correct\": \"correct answer\"}, \"2\": {\"mcq\": \"multiple choice question\", \"options\": {\"a\": \"choice here\", \"b\": \"choice here\", \"c\": \"choice here\", \"d\": \"choice here\"}, \"correct\": \"correct answer\"}, \"3\": {\"mcq\": \"multiple choice question\", \"options\": {\"a\": \"choice here\", \"b\": \"choice here\", \"c\": \"choice here\", \"d\": \"choice here\"}, \"correct\": \"correct answer\"}}'"
      ]
     },
     "execution_count": 19,
     "metadata": {},
     "output_type": "execute_result"
    }
   ],
   "source": [
    "json.dumps(RESPONSE_JSON)"
   ]
  },
  {
   "cell_type": "code",
   "execution_count": 20,
   "metadata": {},
   "outputs": [],
   "source": [
    "NUMBER=5 \n",
    "SUBJECT=\"biology\"\n",
    "TONE=\"simple\""
   ]
  },
  {
   "cell_type": "code",
   "execution_count": 21,
   "metadata": {},
   "outputs": [
    {
     "name": "stderr",
     "output_type": "stream",
     "text": [
      "e:\\Turja\\LLM's\\MCQ-Generator\\mcq\\lib\\site-packages\\langchain_core\\_api\\deprecation.py:117: LangChainDeprecationWarning: The function `__call__` was deprecated in LangChain 0.1.0 and will be removed in 0.2.0. Use invoke instead.\n",
      "  warn_deprecated(\n"
     ]
    },
    {
     "name": "stdout",
     "output_type": "stream",
     "text": [
      "\n",
      "\n",
      "\u001b[1m> Entering new SequentialChain chain...\u001b[0m\n",
      "\n",
      "\n",
      "\u001b[1m> Entering new LLMChain chain...\u001b[0m\n",
      "Prompt after formatting:\n",
      "\u001b[32;1m\u001b[1;3m\n",
      "Text:Biology is the scientific study of life.[1][2][3] It is a natural science with a broad scope but has several unifying\n",
      "themes that tie it together as a single, coherent field.[1][2][3] For instance, all organisms are made up of cells that \n",
      "process hereditary information encoded in genes, which can be transmitted to future generations. Another major theme is \n",
      "evolution, which explains the unity and diversity of life.[1][2][3] Energy processing is also important to life as it \n",
      "allows organisms to move, grow, and reproduce.[1][2][3] Finally, all organisms are able to regulate their own internal \n",
      "environments.[1][2][3][4][5] Biologists are able to study life at multiple levels of organization,[1] from the molecular \n",
      "biology of a cell to the anatomy and physiology of plants and animals, and evolution of populations.[1][6] Hence, there \n",
      "are multiple subdisciplines within biology, each defined by the nature of their research questions and the tools that \n",
      "they use.[7][8][9] Like other scientists, biologists use the scientific method to make observations, pose questions, \n",
      "generate hypotheses, perform experiments, and form conclusions about the world around them.[1] Life on Earth, which \n",
      "emerged more than 3.7 billion years ago,[10] is immensely diverse. Biologists have sought to study and classify the \n",
      "various forms of life, from prokaryotic organisms such as archaea and bacteria to eukaryotic organisms such as protists, \n",
      "fungi, plants, and animals. These various organisms contribute to the biodiversity of an ecosystem, where they play \n",
      "specialized roles in the cycling of nutrients and energy through their biophysical environment.\n",
      "You are an expert MCQ maker. Given the above text, it is your job to create a quiz  of 5 multiple choice questions for biology students in simple tone. \n",
      "Make sure the questions are not repeated and check all the questions to be conforming the text as well.\n",
      "Make sure to format your response like  RESPONSE_JSON below  and use it as a guide. Ensure to make 5 MCQs\n",
      "### RESPONSE_JSON\n",
      "{\"1\": {\"mcq\": \"multiple choice question\", \"options\": {\"a\": \"choice here\", \"b\": \"choice here\", \"c\": \"choice here\", \"d\": \"choice here\"}, \"correct\": \"correct answer\"}, \"2\": {\"mcq\": \"multiple choice question\", \"options\": {\"a\": \"choice here\", \"b\": \"choice here\", \"c\": \"choice here\", \"d\": \"choice here\"}, \"correct\": \"correct answer\"}, \"3\": {\"mcq\": \"multiple choice question\", \"options\": {\"a\": \"choice here\", \"b\": \"choice here\", \"c\": \"choice here\", \"d\": \"choice here\"}, \"correct\": \"correct answer\"}}\n",
      "\n",
      "\u001b[0m\n",
      "\n",
      "\u001b[1m> Finished chain.\u001b[0m\n",
      "\n",
      "\n",
      "\u001b[1m> Entering new LLMChain chain...\u001b[0m\n",
      "Prompt after formatting:\n",
      "\u001b[32;1m\u001b[1;3m\n",
      "Text:Biology is the scientific study of life.[1][2][3] It is a natural science with a broad scope but has several unifying\n",
      "themes that tie it together as a single, coherent field.[1][2][3] For instance, all organisms are made up of cells that \n",
      "process hereditary information encoded in genes, which can be transmitted to future generations. Another major theme is \n",
      "evolution, which explains the unity and diversity of life.[1][2][3] Energy processing is also important to life as it \n",
      "allows organisms to move, grow, and reproduce.[1][2][3] Finally, all organisms are able to regulate their own internal \n",
      "environments.[1][2][3][4][5] Biologists are able to study life at multiple levels of organization,[1] from the molecular \n",
      "biology of a cell to the anatomy and physiology of plants and animals, and evolution of populations.[1][6] Hence, there \n",
      "are multiple subdisciplines within biology, each defined by the nature of their research questions and the tools that \n",
      "they use.[7][8][9] Like other scientists, biologists use the scientific method to make observations, pose questions, \n",
      "generate hypotheses, perform experiments, and form conclusions about the world around them.[1] Life on Earth, which \n",
      "emerged more than 3.7 billion years ago,[10] is immensely diverse. Biologists have sought to study and classify the \n",
      "various forms of life, from prokaryotic organisms such as archaea and bacteria to eukaryotic organisms such as protists, \n",
      "fungi, plants, and animals. These various organisms contribute to the biodiversity of an ecosystem, where they play \n",
      "specialized roles in the cycling of nutrients and energy through their biophysical environment.\n",
      "You are an expert MCQ maker. Given the above text, it is your job to create a quiz  of 5 multiple choice questions for biology students in simple tone. \n",
      "Make sure the questions are not repeated and check all the questions to be conforming the text as well.\n",
      "Make sure to format your response like  RESPONSE_JSON below  and use it as a guide. Ensure to make 5 MCQs\n",
      "### RESPONSE_JSON\n",
      "{\"1\": {\"mcq\": \"multiple choice question\", \"options\": {\"a\": \"choice here\", \"b\": \"choice here\", \"c\": \"choice here\", \"d\": \"choice here\"}, \"correct\": \"correct answer\"}, \"2\": {\"mcq\": \"multiple choice question\", \"options\": {\"a\": \"choice here\", \"b\": \"choice here\", \"c\": \"choice here\", \"d\": \"choice here\"}, \"correct\": \"correct answer\"}, \"3\": {\"mcq\": \"multiple choice question\", \"options\": {\"a\": \"choice here\", \"b\": \"choice here\", \"c\": \"choice here\", \"d\": \"choice here\"}, \"correct\": \"correct answer\"}}\n",
      "\n",
      "\u001b[0m\n",
      "\n",
      "\u001b[1m> Finished chain.\u001b[0m\n",
      "\n",
      "\u001b[1m> Finished chain.\u001b[0m\n"
     ]
    }
   ],
   "source": [
    "with get_openai_callback() as cb:\n",
    "    response = generate_evaluate_chain(\n",
    "        {\n",
    "            \"text\": TEXT,\n",
    "            \"number\": NUMBER,\n",
    "            \"subject\": SUBJECT,\n",
    "            \"tone\": TONE,\n",
    "            \"response_json\": json.dumps(RESPONSE_JSON),\n",
    "        }\n",
    "    )"
   ]
  },
  {
   "cell_type": "code",
   "execution_count": 22,
   "metadata": {},
   "outputs": [
    {
     "name": "stdout",
     "output_type": "stream",
     "text": [
      "Total Tokens:1963\n",
      "Prompt Tokens:1228\n",
      "Completion Tokens:735\n",
      "Total Cost:0.003312\n"
     ]
    }
   ],
   "source": [
    "print(f\"Total Tokens:{cb.total_tokens}\")\n",
    "print(f\"Prompt Tokens:{cb.prompt_tokens}\")\n",
    "print(f\"Completion Tokens:{cb.completion_tokens}\")\n",
    "print(f\"Total Cost:{cb.total_cost}\")"
   ]
  },
  {
   "cell_type": "code",
   "execution_count": 23,
   "metadata": {},
   "outputs": [
    {
     "data": {
      "text/plain": [
       "{'text': 'Biology is the scientific study of life.[1][2][3] It is a natural science with a broad scope but has several unifying\\nthemes that tie it together as a single, coherent field.[1][2][3] For instance, all organisms are made up of cells that \\nprocess hereditary information encoded in genes, which can be transmitted to future generations. Another major theme is \\nevolution, which explains the unity and diversity of life.[1][2][3] Energy processing is also important to life as it \\nallows organisms to move, grow, and reproduce.[1][2][3] Finally, all organisms are able to regulate their own internal \\nenvironments.[1][2][3][4][5] Biologists are able to study life at multiple levels of organization,[1] from the molecular \\nbiology of a cell to the anatomy and physiology of plants and animals, and evolution of populations.[1][6] Hence, there \\nare multiple subdisciplines within biology, each defined by the nature of their research questions and the tools that \\nthey use.[7][8][9] Like other scientists, biologists use the scientific method to make observations, pose questions, \\ngenerate hypotheses, perform experiments, and form conclusions about the world around them.[1] Life on Earth, which \\nemerged more than 3.7 billion years ago,[10] is immensely diverse. Biologists have sought to study and classify the \\nvarious forms of life, from prokaryotic organisms such as archaea and bacteria to eukaryotic organisms such as protists, \\nfungi, plants, and animals. These various organisms contribute to the biodiversity of an ecosystem, where they play \\nspecialized roles in the cycling of nutrients and energy through their biophysical environment.',\n",
       " 'number': 5,\n",
       " 'subject': 'biology',\n",
       " 'tone': 'simple',\n",
       " 'response_json': '{\"1\": {\"mcq\": \"multiple choice question\", \"options\": {\"a\": \"choice here\", \"b\": \"choice here\", \"c\": \"choice here\", \"d\": \"choice here\"}, \"correct\": \"correct answer\"}, \"2\": {\"mcq\": \"multiple choice question\", \"options\": {\"a\": \"choice here\", \"b\": \"choice here\", \"c\": \"choice here\", \"d\": \"choice here\"}, \"correct\": \"correct answer\"}, \"3\": {\"mcq\": \"multiple choice question\", \"options\": {\"a\": \"choice here\", \"b\": \"choice here\", \"c\": \"choice here\", \"d\": \"choice here\"}, \"correct\": \"correct answer\"}}',\n",
       " 'quiz': '\\n{\\n    \"1\": {\\n        \"mcq\": \"What is the scientific study of life?\",\\n        \"options\": {\\n            \"a\": \"Chemistry\",\\n            \"b\": \"Biology\",\\n            \"c\": \"Physics\",\\n            \"d\": \"Geology\"\\n        },\\n        \"correct\": \"b\"\\n    },\\n    \"2\": {\\n        \"mcq\": \"Which theme in biology explains the unity and diversity of life?\",\\n        \"options\": {\\n            \"a\": \"Evolution\",\\n            \"b\": \"Energy processing\",\\n            \"c\": \"Cell structure\",\\n            \"d\": \"Genetic information\"\\n        },\\n        \"correct\": \"a\"\\n    },\\n    \"3\": {\\n        \"mcq\": \"What allows organisms to move, grow, and reproduce?\",\\n        \"options\": {\\n            \"a\": \"Photosynthesis\",\\n            \"b\": \"Energy processing\",\\n            \"c\": \"Cell division\",\\n            \"d\": \"Respiration\"\\n        },\\n        \"correct\": \"b\"\\n    },\\n    \"4\": {\\n        \"mcq\": \"What is the process by which biologists make observations, pose questions, and form conclusions?\",\\n        \"options\": {\\n            \"a\": \"Scientific method\",\\n            \"b\": \"Guesswork\",\\n            \"c\": \"Intuition\",\\n            \"d\": \"Magic\"\\n        },\\n        \"correct\": \"a\"\\n    },\\n    \"5\": {\\n        \"mcq\": \"Which organisms contribute to the biodiversity of an ecosystem?\",\\n        \"options\": {\\n            \"a\": \"Humans only\",\\n            \"b\": \"Plants only\",\\n            \"c\": \"All organisms\",\\n            \"d\": \"Animals only\"\\n        },\\n        \"correct\": \"c\"\\n    }\\n}',\n",
       " 'review': '\\n{\\n    \"1\": {\\n        \"mcq\": \"What is the scientific study of life known as?\",\\n        \"options\": {\\n            \"a\": \"Chemistry\",\\n            \"b\": \"Biology\",\\n            \"c\": \"Physics\",\\n            \"d\": \"Geology\"\\n        },\\n        \"correct\": \"b\"\\n    },\\n    \"2\": {\\n        \"mcq\": \"Which theme in biology explains the unity and diversity of life?\",\\n        \"options\": {\\n            \"a\": \"Evolution\",\\n            \"b\": \"Photosynthesis\",\\n            \"c\": \"Mitosis\",\\n            \"d\": \"Respiration\"\\n        },\\n        \"correct\": \"a\"\\n    },\\n    \"3\": {\\n        \"mcq\": \"What allows organisms to move, grow, and reproduce?\",\\n        \"options\": {\\n            \"a\": \"Energy processing\",\\n            \"b\": \"Cell division\",\\n            \"c\": \"DNA replication\",\\n            \"d\": \"Protein synthesis\"\\n        },\\n        \"correct\": \"a\"\\n    },\\n    \"4\": {\\n        \"mcq\": \"What is an important characteristic of all organisms regarding their internal environments?\",\\n        \"options\": {\\n            \"a\": \"They cannot regulate it\",\\n            \"b\": \"They have no internal environment\",\\n            \"c\": \"They are able to regulate it\",\\n            \"d\": \"They rely on external environment\"\\n        },\\n        \"correct\": \"c\"\\n    },\\n    \"5\": {\\n        \"mcq\": \"What is the approximate age of life on Earth according to the text?\",\\n        \"options\": {\\n            \"a\": \"1 million years\",\\n            \"b\": \"500 million years\",\\n            \"c\": \"3.7 billion years\",\\n            \"d\": \"10 billion years\"\\n        },\\n        \"correct\": \"c\"\\n    }\\n}'}"
      ]
     },
     "execution_count": 23,
     "metadata": {},
     "output_type": "execute_result"
    }
   ],
   "source": [
    "response"
   ]
  },
  {
   "cell_type": "code",
   "execution_count": 24,
   "metadata": {},
   "outputs": [],
   "source": [
    "quiz=response.get(\"quiz\")"
   ]
  },
  {
   "cell_type": "code",
   "execution_count": 25,
   "metadata": {},
   "outputs": [],
   "source": [
    "quiz=json.loads(quiz)"
   ]
  },
  {
   "cell_type": "code",
   "execution_count": 26,
   "metadata": {},
   "outputs": [],
   "source": [
    "quiz_table_data = []\n",
    "for key, value in quiz.items():\n",
    "    mcq = value[\"mcq\"]\n",
    "    options = \" | \".join(\n",
    "        [\n",
    "            f\"{option}: {option_value}\"\n",
    "            for option, option_value in value[\"options\"].items()\n",
    "        ]\n",
    "    )\n",
    "    correct = value[\"correct\"]\n",
    "    quiz_table_data.append({\"MCQ\": mcq, \"Choices\": options, \"Correct\": correct})"
   ]
  },
  {
   "cell_type": "code",
   "execution_count": 27,
   "metadata": {},
   "outputs": [
    {
     "data": {
      "text/plain": [
       "[{'MCQ': 'What is the scientific study of life?',\n",
       "  'Choices': 'a: Chemistry | b: Biology | c: Physics | d: Geology',\n",
       "  'Correct': 'b'},\n",
       " {'MCQ': 'Which theme in biology explains the unity and diversity of life?',\n",
       "  'Choices': 'a: Evolution | b: Energy processing | c: Cell structure | d: Genetic information',\n",
       "  'Correct': 'a'},\n",
       " {'MCQ': 'What allows organisms to move, grow, and reproduce?',\n",
       "  'Choices': 'a: Photosynthesis | b: Energy processing | c: Cell division | d: Respiration',\n",
       "  'Correct': 'b'},\n",
       " {'MCQ': 'What is the process by which biologists make observations, pose questions, and form conclusions?',\n",
       "  'Choices': 'a: Scientific method | b: Guesswork | c: Intuition | d: Magic',\n",
       "  'Correct': 'a'},\n",
       " {'MCQ': 'Which organisms contribute to the biodiversity of an ecosystem?',\n",
       "  'Choices': 'a: Humans only | b: Plants only | c: All organisms | d: Animals only',\n",
       "  'Correct': 'c'}]"
      ]
     },
     "execution_count": 27,
     "metadata": {},
     "output_type": "execute_result"
    }
   ],
   "source": [
    "quiz_table_data"
   ]
  },
  {
   "cell_type": "code",
   "execution_count": 28,
   "metadata": {},
   "outputs": [],
   "source": [
    "quiz=pd.DataFrame(quiz_table_data)"
   ]
  },
  {
   "cell_type": "code",
   "execution_count": 29,
   "metadata": {},
   "outputs": [
    {
     "data": {
      "text/html": [
       "<div>\n",
       "<style scoped>\n",
       "    .dataframe tbody tr th:only-of-type {\n",
       "        vertical-align: middle;\n",
       "    }\n",
       "\n",
       "    .dataframe tbody tr th {\n",
       "        vertical-align: top;\n",
       "    }\n",
       "\n",
       "    .dataframe thead th {\n",
       "        text-align: right;\n",
       "    }\n",
       "</style>\n",
       "<table border=\"1\" class=\"dataframe\">\n",
       "  <thead>\n",
       "    <tr style=\"text-align: right;\">\n",
       "      <th></th>\n",
       "      <th>MCQ</th>\n",
       "      <th>Choices</th>\n",
       "      <th>Correct</th>\n",
       "    </tr>\n",
       "  </thead>\n",
       "  <tbody>\n",
       "    <tr>\n",
       "      <th>0</th>\n",
       "      <td>What is the scientific study of life?</td>\n",
       "      <td>a: Chemistry | b: Biology | c: Physics | d: Ge...</td>\n",
       "      <td>b</td>\n",
       "    </tr>\n",
       "    <tr>\n",
       "      <th>1</th>\n",
       "      <td>Which theme in biology explains the unity and ...</td>\n",
       "      <td>a: Evolution | b: Energy processing | c: Cell ...</td>\n",
       "      <td>a</td>\n",
       "    </tr>\n",
       "    <tr>\n",
       "      <th>2</th>\n",
       "      <td>What allows organisms to move, grow, and repro...</td>\n",
       "      <td>a: Photosynthesis | b: Energy processing | c: ...</td>\n",
       "      <td>b</td>\n",
       "    </tr>\n",
       "    <tr>\n",
       "      <th>3</th>\n",
       "      <td>What is the process by which biologists make o...</td>\n",
       "      <td>a: Scientific method | b: Guesswork | c: Intui...</td>\n",
       "      <td>a</td>\n",
       "    </tr>\n",
       "    <tr>\n",
       "      <th>4</th>\n",
       "      <td>Which organisms contribute to the biodiversity...</td>\n",
       "      <td>a: Humans only | b: Plants only | c: All organ...</td>\n",
       "      <td>c</td>\n",
       "    </tr>\n",
       "  </tbody>\n",
       "</table>\n",
       "</div>"
      ],
      "text/plain": [
       "                                                 MCQ  \\\n",
       "0              What is the scientific study of life?   \n",
       "1  Which theme in biology explains the unity and ...   \n",
       "2  What allows organisms to move, grow, and repro...   \n",
       "3  What is the process by which biologists make o...   \n",
       "4  Which organisms contribute to the biodiversity...   \n",
       "\n",
       "                                             Choices Correct  \n",
       "0  a: Chemistry | b: Biology | c: Physics | d: Ge...       b  \n",
       "1  a: Evolution | b: Energy processing | c: Cell ...       a  \n",
       "2  a: Photosynthesis | b: Energy processing | c: ...       b  \n",
       "3  a: Scientific method | b: Guesswork | c: Intui...       a  \n",
       "4  a: Humans only | b: Plants only | c: All organ...       c  "
      ]
     },
     "execution_count": 29,
     "metadata": {},
     "output_type": "execute_result"
    }
   ],
   "source": [
    "quiz"
   ]
  },
  {
   "cell_type": "code",
   "execution_count": 30,
   "metadata": {},
   "outputs": [],
   "source": [
    "quiz.to_csv(\"biologyquiz.csv\",index=False)"
   ]
  },
  {
   "cell_type": "code",
   "execution_count": null,
   "metadata": {},
   "outputs": [],
   "source": []
  }
 ],
 "metadata": {
  "kernelspec": {
   "display_name": "Python 3",
   "language": "python",
   "name": "python3"
  },
  "language_info": {
   "codemirror_mode": {
    "name": "ipython",
    "version": 3
   },
   "file_extension": ".py",
   "mimetype": "text/x-python",
   "name": "python",
   "nbconvert_exporter": "python",
   "pygments_lexer": "ipython3",
   "version": "3.8.19"
  }
 },
 "nbformat": 4,
 "nbformat_minor": 2
}
